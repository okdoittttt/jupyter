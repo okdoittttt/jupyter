{
 "cells": [
  {
   "cell_type": "code",
   "execution_count": 57,
   "id": "506c3d51",
   "metadata": {},
   "outputs": [
    {
     "name": "stdout",
     "output_type": "stream",
     "text": [
      "유임승차 비율이 가장 높은 정거장 \n",
      "2호선 한양대 95.4%\n"
     ]
    }
   ],
   "source": [
    "import csv\n",
    "\n",
    "f = open('subway_fee.csv', 'r', encoding='utf-8')\n",
    "data = csv.reader(f, delimiter=',')\n",
    "head = next(data)\n",
    "\n",
    "station = ''\n",
    "rate = 0\n",
    "mx = 0\n",
    "\n",
    "for row in data:\n",
    "    # int 값으로 변환\n",
    "    for i in range(4, 8):\n",
    "        row[i] = int(row[i])\n",
    "    \n",
    "    # 0인 데이터 제외 후 출력(100000명 이상만)\n",
    "    if row[7] != 0 and row[4]+row[6] > 100000:\n",
    "        rate = (row[4]/(row[6]+row[4]))*100\n",
    "        \n",
    "        # 가장 높은 비율의 정거장과 비율 출력\n",
    "        if rate > mx:\n",
    "            mx = rate\n",
    "            station = row[1]+ ' ' + row[3]\n",
    "        \n",
    "print('유임승차 비율이 가장 높은 정거장 \\n{} {}%'.format(station, round(mx,2)))"
   ]
  },
  {
   "cell_type": "code",
   "execution_count": null,
   "id": "9c164a8d",
   "metadata": {},
   "outputs": [],
   "source": []
  }
 ],
 "metadata": {
  "kernelspec": {
   "display_name": "Python 3 (ipykernel)",
   "language": "python",
   "name": "python3"
  },
  "language_info": {
   "codemirror_mode": {
    "name": "ipython",
    "version": 3
   },
   "file_extension": ".py",
   "mimetype": "text/x-python",
   "name": "python",
   "nbconvert_exporter": "python",
   "pygments_lexer": "ipython3",
   "version": "3.9.13"
  }
 },
 "nbformat": 4,
 "nbformat_minor": 5
}
