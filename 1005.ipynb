{
 "cells": [
  {
   "cell_type": "code",
   "execution_count": 67,
   "id": "787d8220",
   "metadata": {},
   "outputs": [
    {
     "name": "stdout",
     "output_type": "stream",
     "text": [
      "[4, 3, 5, 4, 1, 5]\n"
     ]
    },
    {
     "data": {
      "image/png": "[encoded data removed]",
      "text/plain": [
       "<Figure size 432x288 with 1 Axes>"
      ]
     },
     "metadata": {
      "needs_background": "light"
     },
     "output_type": "display_data"
    }
   ],
   "source": [
    "import matplotlib.pyplot as plt\n",
    "import random\n",
    "\n",
    "dice = []\n",
    "\n",
    "for i in range(0, 6):\n",
    "    dice.append(random.randint(1, 5))\n",
    "\n",
    "print(dice)\n",
    "\n",
    "plt.hist(dice, bins=6)\n",
    "plt.show()"
   ]
  },
  {
   "cell_type": "code",
   "execution_count": 14,
   "id": "d5e9b12d",
   "metadata": {},
   "outputs": [
    {
     "name": "stdout",
     "output_type": "stream",
     "text": [
      "10.1\n",
      "-12.0\n",
      "0.6\n"
     ]
    },
    {
     "data": {
      "image/png": "[encoded data removed]",
      "text/plain": [
       "<Figure size 432x288 with 1 Axes>"
      ]
     },
     "metadata": {
      "needs_background": "light"
     },
     "output_type": "display_data"
    }
   ],
   "source": [
    "import csv\n",
    "import matplotlib.pyplot as plt\n",
    "\n",
    "f = open('seoul_day_data.csv')\n",
    "data = csv.reader(f)\n",
    "next(data)\n",
    "\n",
    "result = []\n",
    "result2 = []\n",
    "\n",
    "for row in data:\n",
    "    if row[-1] != '':\n",
    "        date = row[0].split('.')\n",
    "        month = int(date[1])\n",
    "        day = int(date[2])\n",
    "        if month == 1 and day == 17:\n",
    "            result.append(float(row[-1]))\n",
    "        if month == 8 and day == 17:\n",
    "            result2.append(float(row[-1]))\n",
    "\n",
    "print(max(result))\n",
    "print(min(result))\n",
    "print(round(sum(result)/len(result),2))\n",
    "\n",
    "plt.rc('font', family='AppleGothic')\n",
    "plt.rcParams['axes.unicode_minus'] = False\n",
    "plt.title(\"특정 날짜의 최고 기온\")\n",
    "plt.hist(result, color='b', bins=100, label='1/17')\n",
    "plt.hist(result2, color='r', bins=100, label='8/17')\n",
    "plt.legend()\n",
    "plt.show()"
   ]
  },
  {
   "cell_type": "code",
   "execution_count": null,
   "id": "c3386307",
   "metadata": {},
   "outputs": [],
   "source": []
  }
 ],
 "metadata": {
  "kernelspec": {
   "display_name": "Python 3 (ipykernel)",
   "language": "python",
   "name": "python3"
  },
  "language_info": {
   "codemirror_mode": {
    "name": "ipython",
    "version": 3
   },
   "file_extension": ".py",
   "mimetype": "text/x-python",
   "name": "python",
   "nbconvert_exporter": "python",
   "pygments_lexer": "ipython3",
   "version": "3.9.12"
  }
 },
 "nbformat": 4,
 "nbformat_minor": 5
}
