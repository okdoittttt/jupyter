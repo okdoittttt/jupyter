{
 "cells": [
  {
   "cell_type": "code",
   "execution_count": 1,
   "id": "2cfc7cc3",
   "metadata": {},
   "outputs": [
    {
     "name": "stdout",
     "output_type": "stream",
     "text": [
      "최고기온 : 39.6, 년월 : 2018-08, 최저기온 : -14.4, 년월 : 1917-01\n"
     ]
    }
   ],
   "source": [
    "import csv\n",
    "import matplotlib.pyplot as plt\n",
    "\n",
    "f = open('seoul.csv', 'r', encoding='utf-8')\n",
    "\n",
    "data = csv.reader(f, delimiter=',')\n",
    "\n",
    "head = next(data)\n",
    "\n",
    "max_temp = -999\n",
    "max_date = \"\"\n",
    "min_temp = 999\n",
    "min_date = \"\"\n",
    "\n",
    "for row in data:\n",
    "    if row[-1] == '' or row[-2] == '':\n",
    "        row[-1] = 0\n",
    "        row[-2] = 0\n",
    "    row[-1] = float(row[-1])\n",
    "    row[-2] = float(row[-2])\n",
    "    if max_temp < row[-1]:\n",
    "        max_date = row[0]\n",
    "        max_temp = row[-1]\n",
    "    elif min_temp > row[-2]:\n",
    "        min_date = row[0]\n",
    "        min_temp = row[-2]\n",
    "        \n",
    "print('최고기온 : {}, 년월 : {}, 최저기온 : {}, 년월 : {}'.format(max_temp, max_date, min_temp, min_date))"
   ]
  }
 ],
 "metadata": {
  "kernelspec": {
   "display_name": "Python 3 (ipykernel)",
   "language": "python",
   "name": "python3"
  },
  "language_info": {
   "codemirror_mode": {
    "name": "ipython",
    "version": 3
   },
   "file_extension": ".py",
   "mimetype": "text/x-python",
   "name": "python",
   "nbconvert_exporter": "python",
   "pygments_lexer": "ipython3",
   "version": "3.9.12"
  }
 },
 "nbformat": 4,
 "nbformat_minor": 5
}
