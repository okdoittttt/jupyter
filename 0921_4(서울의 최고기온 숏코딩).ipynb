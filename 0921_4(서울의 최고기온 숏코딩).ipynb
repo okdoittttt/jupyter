{
 "cells": [
  {
   "cell_type": "code",
   "execution_count": 1,
   "id": "195eacea",
   "metadata": {},
   "outputs": [
    {
     "name": "stdout",
     "output_type": "stream",
     "text": [
      "최고기온 : 39.6\n"
     ]
    }
   ],
   "source": [
    "import csv\n",
    "import matplotlib.pyplot as plt\n",
    "\n",
    "f = open('seoul.csv', 'r', encoding='utf-8')\n",
    "data = csv.reader(f, delimiter=',')\n",
    "head = next(data)\n",
    "\n",
    "max_temp = []\n",
    "\n",
    "for row in data:\n",
    "    if row[4] != '':\n",
    "        temp = float(row[4])\n",
    "        max_temp.append(temp)\n",
    "    \n",
    "print('최고기온 : {}'.format(max(max_temp)))"
   ]
  },
  {
   "cell_type": "markdown",
   "id": "60255824",
   "metadata": {},
   "source": []
  }
 ],
 "metadata": {
  "kernelspec": {
   "display_name": "Python 3 (ipykernel)",
   "language": "python",
   "name": "python3"
  },
  "language_info": {
   "codemirror_mode": {
    "name": "ipython",
    "version": 3
   },
   "file_extension": ".py",
   "mimetype": "text/x-python",
   "name": "python",
   "nbconvert_exporter": "python",
   "pygments_lexer": "ipython3",
   "version": "3.9.12"
  }
 },
 "nbformat": 4,
 "nbformat_minor": 5
}
