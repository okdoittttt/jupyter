{
 "cells": [
  {
   "cell_type": "code",
   "execution_count": 1,
   "id": "0a9ffab9",
   "metadata": {},
   "outputs": [],
   "source": [
    "# 컴퓨터정보과 2학년 1반 손옥무(20215984) 기말 프로젝트\n",
    "# 파이썬을 이용한 데이터 분석 및 시각화\n",
    "\n",
    "# csv 데이터 다운로드(행정안전부 연령별 인구 현황)https://jumin.mois.go.kr/index.jsp#\n",
    "\n",
    "\n",
    "# 사용할 전체 라이브러리\n",
    "import csv\n",
    "import matplotlib.pyplot as plt"
   ]
  },
  {
   "cell_type": "code",
   "execution_count": null,
   "id": "c102b659",
   "metadata": {},
   "outputs": [],
   "source": [
    "# 문제 6) 부산광역시 전체 연령대별(0세 ~ 10세 이상) 성별(남여) 비율을 산점도로 표현 하시오.\n",
    "\n"
   ]
  }
 ],
 "metadata": {
  "kernelspec": {
   "display_name": "Python 3 (ipykernel)",
   "language": "python",
   "name": "python3"
  },
  "language_info": {
   "codemirror_mode": {
    "name": "ipython",
    "version": 3
   },
   "file_extension": ".py",
   "mimetype": "text/x-python",
   "name": "python",
   "nbconvert_exporter": "python",
   "pygments_lexer": "ipython3",
   "version": "3.9.13"
  }
 },
 "nbformat": 4,
 "nbformat_minor": 5
}
